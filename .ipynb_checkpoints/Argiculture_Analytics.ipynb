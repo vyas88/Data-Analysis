{
 "cells": [
  {
   "cell_type": "code",
   "execution_count": null,
   "id": "initial_id",
   "metadata": {
    "collapsed": true
   },
   "outputs": [],
   "source": [
    "import pandas as pd\n",
    "import os\n",
    "import zipfile\n",
    "\n",
    "# Define the path to the extracted crops data\n",
    "zip_path = '/mnt/data/Crops.zip'\n",
    "unzip_dir = '/mnt/data/Crops'\n",
    "\n",
    "# Unzip the file\n",
    "with zipfile.ZipFile(zip_path, 'r') as zip_ref:\n",
    "    zip_ref.extractall(unzip_dir)\n",
    "\n",
    "# Function to load and preprocess individual crop files\n",
    "def load_crop_data(unzip_dir):\n",
    "    crop_data = []\n",
    "    for root, dirs, files in os.walk(unzip_dir):\n",
    "        for file in files:\n",
    "            if file.endswith('.csv'):\n",
    "                file_path = os.path.join(root, file)\n",
    "                df = pd.read_csv(file_path)\n",
    "                df = df[['Area', 'Item', 'Year', 'Unit', 'Value']]\n",
    "                df.columns = ['Region', 'Crop', 'Year', 'Unit', 'Yield']\n",
    "                crop_data.append(df)\n",
    "    return pd.concat(crop_data, ignore_index=True)\n",
    "\n",
    "# Load all crop data\n",
    "crop_df = load_crop_data(unzip_dir)\n",
    "\n",
    "# Load rainfall and temperature datasets\n",
    "rainfall_df = pd.read_csv('/mnt/data/rainfall.csv')\n",
    "temperature_df = pd.read_csv('/mnt/data/temperature.csv')\n",
    "\n",
    "# Preprocess rainfall dataset\n",
    "rainfall_df.columns = ['Year', 'Region', 'Rainfall']\n",
    "\n",
    "# Preprocess temperature dataset\n",
    "temperature_df.columns = ['Year', 'Region', 'MinTemp', 'MaxTemp', 'AvgTemp']\n",
    "\n",
    "# Merge datasets on Region and Year\n",
    "merged_df = pd.merge(crop_df, rainfall_df, on=['Region', 'Year'])\n",
    "merged_df = pd.merge(merged_df, temperature_df, on=['Region', 'Year'])\n",
    "\n",
    "# Convert categorical variables to numerical\n",
    "merged_df['Region'] = merged_df['Region'].astype('category').cat.codes\n",
    "merged_df['Crop'] = merged_df['Crop'].astype('category').cat.codes\n",
    "\n",
    "# Display the first few rows of the merged dataset\n",
    "print(merged_df.head())\n"
   ]
  },
  {
   "cell_type": "code",
   "outputs": [],
   "source": [],
   "metadata": {
    "collapsed": false
   },
   "id": "136514e0cd01e07e"
  }
 ],
 "metadata": {
  "kernelspec": {
   "display_name": "Python 3",
   "language": "python",
   "name": "python3"
  },
  "language_info": {
   "codemirror_mode": {
    "name": "ipython",
    "version": 2
   },
   "file_extension": ".py",
   "mimetype": "text/x-python",
   "name": "python",
   "nbconvert_exporter": "python",
   "pygments_lexer": "ipython2",
   "version": "2.7.6"
  }
 },
 "nbformat": 4,
 "nbformat_minor": 5
}
